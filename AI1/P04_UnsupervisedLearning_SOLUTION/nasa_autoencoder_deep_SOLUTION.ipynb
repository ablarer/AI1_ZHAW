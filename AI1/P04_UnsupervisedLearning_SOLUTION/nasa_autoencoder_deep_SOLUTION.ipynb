{
 "cells": [
  {
   "cell_type": "markdown",
   "metadata": {},
   "source": [
    "# Autoencoder (deep, stacked)\n",
    "--- \n",
    "\n",
    "In this notebook we will train a deep fully connected (dense) autoencoder on the nasa data set.\n",
    "\n",
    "The keras code was inspired by https://blog.keras.io/building-autoencoders-in-keras.html"
   ]
  },
  {
   "cell_type": "code",
   "execution_count": 1,
   "metadata": {},
   "outputs": [],
   "source": [
    "# inports\n",
    "import numpy as np\n",
    "import keras\n",
    "\n",
    "from tensorflow.keras import optimizers\n",
    "from tensorflow.keras.layers import Input, Dense, GaussianNoise\n",
    "from tensorflow.keras.models import Model, Sequential\n",
    "from tensorflow.keras.callbacks import TensorBoard\n",
    "\n",
    "from util import plot_spectrogram_features\n",
    "from util import plot_reconstruction_error\n",
    "from util import load_data\n",
    "from util import scale\n",
    "\n",
    "import matplotlib.pyplot as plt\n",
    "%matplotlib inline\n",
    "plt.style.use('ggplot')"
   ]
  },
  {
   "cell_type": "code",
   "execution_count": 2,
   "metadata": {},
   "outputs": [
    {
     "name": "stdout",
     "output_type": "stream",
     "text": [
      "2.6.0\n"
     ]
    }
   ],
   "source": [
    "import tensorflow as tf\n",
    "print(tf.__version__)"
   ]
  },
  {
   "cell_type": "code",
   "execution_count": 3,
   "metadata": {},
   "outputs": [],
   "source": [
    "# auxiliary variable\n",
    "tensorboard_path = \"./\""
   ]
  },
  {
   "cell_type": "markdown",
   "metadata": {},
   "source": [
    "## Load NASA data"
   ]
  },
  {
   "cell_type": "code",
   "execution_count": 4,
   "metadata": {},
   "outputs": [],
   "source": [
    "path = \"./features_nasa.pickle\"\n",
    "X_train, X_test = load_data(path)"
   ]
  },
  {
   "cell_type": "markdown",
   "metadata": {},
   "source": [
    "---"
   ]
  },
  {
   "cell_type": "markdown",
   "metadata": {},
   "source": [
    "## Build Model"
   ]
  },
  {
   "cell_type": "code",
   "execution_count": 5,
   "metadata": {},
   "outputs": [
    {
     "name": "stdout",
     "output_type": "stream",
     "text": [
      "Number of features: 100\n",
      "Number of hidden units: 8\n"
     ]
    }
   ],
   "source": [
    "# input dim\n",
    "n_features = X_train.shape[1]\n",
    "# number of hidden units\n",
    "encoding_dim = 8\n",
    "\n",
    "print(\"Number of features:\", n_features)\n",
    "print(\"Number of hidden units:\", encoding_dim)"
   ]
  },
  {
   "cell_type": "code",
   "execution_count": 6,
   "metadata": {},
   "outputs": [],
   "source": [
    "# Create model\n",
    "model = Sequential()\n",
    "model.add(Dense(input_shape=(n_features,), units=encoding_dim, activation='sigmoid'))\n",
    "# now the model will take as input arrays of shape (*, n_features)\n",
    "# and output arrays of shape (*, encoding_dim)\n",
    "model.add(Dense(units=2, activation='sigmoid'))\n",
    "model.add(Dense(units=8, activation='sigmoid'))\n",
    "model.add(Dense(units=n_features, activation='sigmoid'))"
   ]
  },
  {
   "cell_type": "code",
   "execution_count": 7,
   "metadata": {},
   "outputs": [
    {
     "name": "stdout",
     "output_type": "stream",
     "text": [
      "Model: \"sequential\"\n",
      "_________________________________________________________________\n",
      "Layer (type)                 Output Shape              Param #   \n",
      "=================================================================\n",
      "dense (Dense)                (None, 8)                 808       \n",
      "_________________________________________________________________\n",
      "dense_1 (Dense)              (None, 2)                 18        \n",
      "_________________________________________________________________\n",
      "dense_2 (Dense)              (None, 8)                 24        \n",
      "_________________________________________________________________\n",
      "dense_3 (Dense)              (None, 100)               900       \n",
      "=================================================================\n",
      "Total params: 1,750\n",
      "Trainable params: 1,750\n",
      "Non-trainable params: 0\n",
      "_________________________________________________________________\n"
     ]
    }
   ],
   "source": [
    "model.summary()"
   ]
  },
  {
   "cell_type": "code",
   "execution_count": 9,
   "metadata": {},
   "outputs": [],
   "source": [
    "# Optimizer stochastic gradient descent\n",
    "sgd = optimizers.SGD(learning_rate=0.2, decay=1e-6, momentum=0.9, nesterov=True)"
   ]
  },
  {
   "cell_type": "code",
   "execution_count": 10,
   "metadata": {},
   "outputs": [],
   "source": [
    "# Compile model\n",
    "model.compile(optimizer=sgd, loss='mean_squared_error')"
   ]
  },
  {
   "cell_type": "markdown",
   "metadata": {},
   "source": [
    "### Prepare data"
   ]
  },
  {
   "cell_type": "code",
   "execution_count": 11,
   "metadata": {},
   "outputs": [
    {
     "name": "stdout",
     "output_type": "stream",
     "text": [
      "Shape of traing set scaled: \t (246, 100)\n",
      "Shape of test set scaled: \t (984, 100)\n"
     ]
    }
   ],
   "source": [
    "# Normalization (choose one sensor)\n",
    "nb_sensor = 0\n",
    "x_train = scale(X_train[:,:,nb_sensor])\n",
    "x_test = scale(X_test[:,:,nb_sensor], samples=x_train.shape[0])\n",
    "\n",
    "print(\"Shape of traing set scaled: \\t {}\".format(x_train.shape))\n",
    "print(\"Shape of test set scaled: \\t {}\".format(x_test.shape))"
   ]
  },
  {
   "cell_type": "code",
   "execution_count": 12,
   "metadata": {},
   "outputs": [],
   "source": [
    "### Train Model"
   ]
  },
  {
   "cell_type": "code",
   "execution_count": 13,
   "metadata": {},
   "outputs": [
    {
     "name": "stdout",
     "output_type": "stream",
     "text": [
      "Epoch 1/50\n",
      "13/13 [==============================] - 2s 88ms/step - loss: 1.2597\n",
      "Epoch 2/50\n",
      "13/13 [==============================] - 0s 3ms/step - loss: 1.2257\n",
      "Epoch 3/50\n",
      "13/13 [==============================] - 0s 2ms/step - loss: 1.1872\n",
      "Epoch 4/50\n",
      "13/13 [==============================] - 0s 2ms/step - loss: 1.1517\n",
      "Epoch 5/50\n",
      "13/13 [==============================] - 0s 2ms/step - loss: 1.1214\n",
      "Epoch 6/50\n",
      "13/13 [==============================] - 0s 2ms/step - loss: 1.0969\n",
      "Epoch 7/50\n",
      "13/13 [==============================] - 0s 1ms/step - loss: 1.0774\n",
      "Epoch 8/50\n",
      "13/13 [==============================] - 0s 1ms/step - loss: 1.0623\n",
      "Epoch 9/50\n",
      "13/13 [==============================] - 0s 1ms/step - loss: 1.0516\n",
      "Epoch 10/50\n",
      "13/13 [==============================] - 0s 1ms/step - loss: 1.0431\n",
      "Epoch 11/50\n",
      "13/13 [==============================] - 0s 2ms/step - loss: 1.0371\n",
      "Epoch 12/50\n",
      "13/13 [==============================] - 0s 2ms/step - loss: 1.0324\n",
      "Epoch 13/50\n",
      "13/13 [==============================] - 0s 2ms/step - loss: 1.0287\n",
      "Epoch 14/50\n",
      "13/13 [==============================] - 0s 2ms/step - loss: 1.0258\n",
      "Epoch 15/50\n",
      "13/13 [==============================] - 0s 1ms/step - loss: 1.0235\n",
      "Epoch 16/50\n",
      "13/13 [==============================] - 0s 1ms/step - loss: 1.0217\n",
      "Epoch 17/50\n",
      "13/13 [==============================] - 0s 1ms/step - loss: 1.0202\n",
      "Epoch 18/50\n",
      "13/13 [==============================] - 0s 1ms/step - loss: 1.0189\n",
      "Epoch 19/50\n",
      "13/13 [==============================] - 0s 1ms/step - loss: 1.0176\n",
      "Epoch 20/50\n",
      "13/13 [==============================] - 0s 1ms/step - loss: 1.0167\n",
      "Epoch 21/50\n",
      "13/13 [==============================] - 0s 1ms/step - loss: 1.0159\n",
      "Epoch 22/50\n",
      "13/13 [==============================] - 0s 1ms/step - loss: 1.0151\n",
      "Epoch 23/50\n",
      "13/13 [==============================] - 0s 1ms/step - loss: 1.0144\n",
      "Epoch 24/50\n",
      "13/13 [==============================] - 0s 1ms/step - loss: 1.0139\n",
      "Epoch 25/50\n",
      "13/13 [==============================] - 0s 1ms/step - loss: 1.0133\n",
      "Epoch 26/50\n",
      "13/13 [==============================] - 0s 1ms/step - loss: 1.0129\n",
      "Epoch 27/50\n",
      "13/13 [==============================] - 0s 2ms/step - loss: 1.0125\n",
      "Epoch 28/50\n",
      "13/13 [==============================] - 0s 1ms/step - loss: 1.0121\n",
      "Epoch 29/50\n",
      "13/13 [==============================] - 0s 1ms/step - loss: 1.0118\n",
      "Epoch 30/50\n",
      "13/13 [==============================] - 0s 2ms/step - loss: 1.0114\n",
      "Epoch 31/50\n",
      "13/13 [==============================] - 0s 1ms/step - loss: 1.0111\n",
      "Epoch 32/50\n",
      "13/13 [==============================] - 0s 1ms/step - loss: 1.0109\n",
      "Epoch 33/50\n",
      "13/13 [==============================] - 0s 2ms/step - loss: 1.0106\n",
      "Epoch 34/50\n",
      "13/13 [==============================] - 0s 2ms/step - loss: 1.0104\n",
      "Epoch 35/50\n",
      "13/13 [==============================] - 0s 1ms/step - loss: 1.0103\n",
      "Epoch 36/50\n",
      "13/13 [==============================] - 0s 1ms/step - loss: 1.0101\n",
      "Epoch 37/50\n",
      "13/13 [==============================] - 0s 2ms/step - loss: 1.0099\n",
      "Epoch 38/50\n",
      "13/13 [==============================] - 0s 1ms/step - loss: 1.0097\n",
      "Epoch 39/50\n",
      "13/13 [==============================] - 0s 2ms/step - loss: 1.0095\n",
      "Epoch 40/50\n",
      "13/13 [==============================] - 0s 2ms/step - loss: 1.0094\n",
      "Epoch 41/50\n",
      "13/13 [==============================] - 0s 2ms/step - loss: 1.0092\n",
      "Epoch 42/50\n",
      "13/13 [==============================] - 0s 2ms/step - loss: 1.0091\n",
      "Epoch 43/50\n",
      "13/13 [==============================] - 0s 2ms/step - loss: 1.0090\n",
      "Epoch 44/50\n",
      "13/13 [==============================] - 0s 2ms/step - loss: 1.0088\n",
      "Epoch 45/50\n",
      "13/13 [==============================] - 0s 1ms/step - loss: 1.0087\n",
      "Epoch 46/50\n",
      "13/13 [==============================] - 0s 1ms/step - loss: 1.0086\n",
      "Epoch 47/50\n",
      "13/13 [==============================] - 0s 1ms/step - loss: 1.0085\n",
      "Epoch 48/50\n",
      "13/13 [==============================] - 0s 3ms/step - loss: 1.0084\n",
      "Epoch 49/50\n",
      "13/13 [==============================] - 0s 4ms/step - loss: 1.0083\n",
      "Epoch 50/50\n",
      "13/13 [==============================] - 0s 9ms/step - loss: 1.0082\n"
     ]
    },
    {
     "data": {
      "text/plain": [
       "<keras.callbacks.History at 0x1b99d8ae490>"
      ]
     },
     "execution_count": 13,
     "metadata": {},
     "output_type": "execute_result"
    }
   ],
   "source": [
    "# Fit the model\n",
    "model.fit(x_train, x_train,\n",
    "                epochs=50,\n",
    "                batch_size=20,\n",
    "                shuffle=True,\n",
    "                callbacks=[TensorBoard(log_dir=tensorboard_path)])"
   ]
  },
  {
   "cell_type": "markdown",
   "metadata": {},
   "source": [
    "### Reconstruction Error"
   ]
  },
  {
   "cell_type": "code",
   "execution_count": 14,
   "metadata": {},
   "outputs": [
    {
     "data": {
      "image/png": "[encoded data removed]",
      "text/plain": [
       "<Figure size 864x576 with 1 Axes>"
      ]
     },
     "metadata": {},
     "output_type": "display_data"
    }
   ],
   "source": [
    "# evaluate the model\n",
    "# calculate the reconstruction error\n",
    "costs = np.zeros(x_test.shape[0])\n",
    "for i, x in enumerate(x_test):\n",
    "    input_x = np.reshape(x, (1, x_test.shape[1]))\n",
    "    reconstruction = model.predict(input_x)\n",
    "    # calculate mean squared error\n",
    "    costs[i] = ((x - reconstruction[0]) ** 2).mean(axis=0)\n",
    "\n",
    "plot_reconstruction_error(scale(costs, samples=x_train.shape[0]))"
   ]
  },
  {
   "cell_type": "code",
   "execution_count": null,
   "metadata": {
    "collapsed": true
   },
   "outputs": [],
   "source": []
  }
 ],
 "metadata": {
  "kernelspec": {
   "display_name": "Python [conda env:ki1_labs2]",
   "language": "python",
   "name": "conda-env-ki1_labs2-py"
  },
  "language_info": {
   "codemirror_mode": {
    "name": "ipython",
    "version": 3
   },
   "file_extension": ".py",
   "mimetype": "text/x-python",
   "name": "python",
   "nbconvert_exporter": "python",
   "pygments_lexer": "ipython3",
   "version": "3.9.6"
  }
 },
 "nbformat": 4,
 "nbformat_minor": 2
}
