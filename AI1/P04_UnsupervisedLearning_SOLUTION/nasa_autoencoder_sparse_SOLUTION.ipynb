{
 "cells": [
  {
   "cell_type": "markdown",
   "metadata": {},
   "source": [
    "# Autoencoder (sparse)\n",
    "--- \n",
    "\n",
    "In this notebook we will train a sparse fully connected (dense) autoencoder on the nasa data set.\n",
    "\n",
    "The keras code was inspired by https://blog.keras.io/building-autoencoders-in-keras.html"
   ]
  },
  {
   "cell_type": "code",
   "execution_count": 4,
   "metadata": {},
   "outputs": [],
   "source": [
    "# inports\n",
    "import numpy as np\n",
    "\n",
    "import keras\n",
    "from tensorflow.keras import optimizers, regularizers\n",
    "from tensorflow.keras.layers import Input, Dense, GaussianNoise\n",
    "from tensorflow.keras.models import Model, Sequential\n",
    "from tensorflow.keras.callbacks import TensorBoard\n",
    "\n",
    "from util import plot_spectrogram_features\n",
    "from util import plot_reconstruction_error\n",
    "from util import load_data\n",
    "from util import scale\n",
    "\n",
    "import matplotlib.pyplot as plt\n",
    "%matplotlib inline\n",
    "plt.style.use('ggplot')"
   ]
  },
  {
   "cell_type": "code",
   "execution_count": 5,
   "metadata": {},
   "outputs": [
    {
     "name": "stdout",
     "output_type": "stream",
     "text": [
      "2.6.0\n"
     ]
    },
    {
     "data": {
      "text/plain": [
       "'2.6.0'"
      ]
     },
     "execution_count": 5,
     "metadata": {},
     "output_type": "execute_result"
    }
   ],
   "source": [
    "import tensorflow as tf\n",
    "print(tf.__version__)\n",
    "keras.__version__"
   ]
  },
  {
   "cell_type": "code",
   "execution_count": 6,
   "metadata": {},
   "outputs": [],
   "source": [
    "# auxiliary variable\n",
    "tensorboard_path = \"./\""
   ]
  },
  {
   "cell_type": "markdown",
   "metadata": {},
   "source": [
    "## Load NASA data"
   ]
  },
  {
   "cell_type": "code",
   "execution_count": 7,
   "metadata": {},
   "outputs": [],
   "source": [
    "path = \"./features_nasa.pickle\"\n",
    "X_train, X_test = load_data(path)"
   ]
  },
  {
   "cell_type": "markdown",
   "metadata": {},
   "source": [
    "---"
   ]
  },
  {
   "cell_type": "markdown",
   "metadata": {},
   "source": [
    "## Build Model"
   ]
  },
  {
   "cell_type": "code",
   "execution_count": 8,
   "metadata": {},
   "outputs": [
    {
     "name": "stdout",
     "output_type": "stream",
     "text": [
      "Number of features: 100\n",
      "Number of hidden units: 200\n"
     ]
    }
   ],
   "source": [
    "# input dim\n",
    "n_features = X_train.shape[1] \n",
    "# number of hidden units\n",
    "encoding_dim = 2*n_features\n",
    "\n",
    "print(\"Number of features:\", n_features)\n",
    "print(\"Number of hidden units:\", encoding_dim)"
   ]
  },
  {
   "cell_type": "code",
   "execution_count": 9,
   "metadata": {},
   "outputs": [],
   "source": [
    "# Create model\n",
    "model = Sequential()\n",
    "model.add(Dense(input_shape=(n_features,), units=encoding_dim, activation='sigmoid', activity_regularizer=regularizers.l1(0.001)))\n",
    "# now the model will take as input arrays of shape (*, n_features)\n",
    "# and output arrays of shape (*, encoding_dim)\n",
    "# uppdate: reguralization term in the loss function\n",
    "model.add(Dense(units=n_features, activation='sigmoid'))"
   ]
  },
  {
   "cell_type": "code",
   "execution_count": 10,
   "metadata": {},
   "outputs": [
    {
     "name": "stdout",
     "output_type": "stream",
     "text": [
      "Model: \"sequential\"\n",
      "_________________________________________________________________\n",
      "Layer (type)                 Output Shape              Param #   \n",
      "=================================================================\n",
      "dense (Dense)                (None, 200)               20200     \n",
      "_________________________________________________________________\n",
      "dense_1 (Dense)              (None, 100)               20100     \n",
      "=================================================================\n",
      "Total params: 40,300\n",
      "Trainable params: 40,300\n",
      "Non-trainable params: 0\n",
      "_________________________________________________________________\n"
     ]
    }
   ],
   "source": [
    "model.summary()"
   ]
  },
  {
   "cell_type": "code",
   "execution_count": 12,
   "metadata": {},
   "outputs": [],
   "source": [
    "# Optimizer stochastic gradient descent\n",
    "sgd = optimizers.SGD(learning_rate=0.2, decay=1e-6, momentum=0.9, nesterov=True)"
   ]
  },
  {
   "cell_type": "code",
   "execution_count": 13,
   "metadata": {},
   "outputs": [],
   "source": [
    "# Compile model\n",
    "model.compile(optimizer=sgd, loss='mean_squared_error')"
   ]
  },
  {
   "cell_type": "markdown",
   "metadata": {},
   "source": [
    "### Prepare data"
   ]
  },
  {
   "cell_type": "code",
   "execution_count": 14,
   "metadata": {},
   "outputs": [
    {
     "name": "stdout",
     "output_type": "stream",
     "text": [
      "Shape of traing set scaled: \t (246, 100)\n",
      "Shape of test set scaled: \t (984, 100)\n"
     ]
    }
   ],
   "source": [
    "# Normalization (choose one sensor)\n",
    "nb_sensor = 0\n",
    "x_train = scale(X_train[:,:,nb_sensor])\n",
    "x_test = scale(X_test[:,:,nb_sensor], samples=x_train.shape[0])\n",
    "\n",
    "print(\"Shape of traing set scaled: \\t {}\".format(x_train.shape))\n",
    "print(\"Shape of test set scaled: \\t {}\".format(x_test.shape))"
   ]
  },
  {
   "cell_type": "code",
   "execution_count": 15,
   "metadata": {},
   "outputs": [],
   "source": [
    "### Train Model"
   ]
  },
  {
   "cell_type": "code",
   "execution_count": 16,
   "metadata": {},
   "outputs": [
    {
     "data": {
      "text/plain": [
       "(246, 100)"
      ]
     },
     "execution_count": 16,
     "metadata": {},
     "output_type": "execute_result"
    }
   ],
   "source": [
    "x_train.shape"
   ]
  },
  {
   "cell_type": "code",
   "execution_count": 17,
   "metadata": {},
   "outputs": [
    {
     "name": "stdout",
     "output_type": "stream",
     "text": [
      "Epoch 1/50\n",
      "13/13 [==============================] - 1s 90ms/step - loss: 1.2919\n",
      "Epoch 2/50\n",
      "13/13 [==============================] - 0s 2ms/step - loss: 1.1243\n",
      "Epoch 3/50\n",
      "13/13 [==============================] - 0s 2ms/step - loss: 1.1046\n",
      "Epoch 4/50\n",
      "13/13 [==============================] - 0s 9ms/step - loss: 1.1005\n",
      "Epoch 5/50\n",
      "13/13 [==============================] - 0s 2ms/step - loss: 1.0979\n",
      "Epoch 6/50\n",
      "13/13 [==============================] - 0s 2ms/step - loss: 1.0955\n",
      "Epoch 7/50\n",
      "13/13 [==============================] - 0s 2ms/step - loss: 1.0930\n",
      "Epoch 8/50\n",
      "13/13 [==============================] - 0s 2ms/step - loss: 1.0903\n",
      "Epoch 9/50\n",
      "13/13 [==============================] - 0s 2ms/step - loss: 1.0877\n",
      "Epoch 10/50\n",
      "13/13 [==============================] - 0s 2ms/step - loss: 1.0849\n",
      "Epoch 11/50\n",
      "13/13 [==============================] - 0s 3ms/step - loss: 1.0821\n",
      "Epoch 12/50\n",
      "13/13 [==============================] - 0s 4ms/step - loss: 1.0791\n",
      "Epoch 13/50\n",
      "13/13 [==============================] - 0s 5ms/step - loss: 1.0760\n",
      "Epoch 14/50\n",
      "13/13 [==============================] - 0s 3ms/step - loss: 1.0731\n",
      "Epoch 15/50\n",
      "13/13 [==============================] - 0s 5ms/step - loss: 1.0703\n",
      "Epoch 16/50\n",
      "13/13 [==============================] - 0s 4ms/step - loss: 1.0674\n",
      "Epoch 17/50\n",
      "13/13 [==============================] - 0s 3ms/step - loss: 1.0645\n",
      "Epoch 18/50\n",
      "13/13 [==============================] - 0s 7ms/step - loss: 1.0615\n",
      "Epoch 19/50\n",
      "13/13 [==============================] - 0s 2ms/step - loss: 1.0586\n",
      "Epoch 20/50\n",
      "13/13 [==============================] - 0s 3ms/step - loss: 1.0555\n",
      "Epoch 21/50\n",
      "13/13 [==============================] - 0s 3ms/step - loss: 1.0526\n",
      "Epoch 22/50\n",
      "13/13 [==============================] - 0s 4ms/step - loss: 1.0498\n",
      "Epoch 23/50\n",
      "13/13 [==============================] - 0s 2ms/step - loss: 1.0469\n",
      "Epoch 24/50\n",
      "13/13 [==============================] - 0s 3ms/step - loss: 1.0441\n",
      "Epoch 25/50\n",
      "13/13 [==============================] - 0s 3ms/step - loss: 1.0413\n",
      "Epoch 26/50\n",
      "13/13 [==============================] - 0s 3ms/step - loss: 1.0384\n",
      "Epoch 27/50\n",
      "13/13 [==============================] - 0s 5ms/step - loss: 1.0355\n",
      "Epoch 28/50\n",
      "13/13 [==============================] - 0s 3ms/step - loss: 1.0327\n",
      "Epoch 29/50\n",
      "13/13 [==============================] - 0s 4ms/step - loss: 1.0299\n",
      "Epoch 30/50\n",
      "13/13 [==============================] - 0s 3ms/step - loss: 1.0271\n",
      "Epoch 31/50\n",
      "13/13 [==============================] - 0s 3ms/step - loss: 1.0241\n",
      "Epoch 32/50\n",
      "13/13 [==============================] - 0s 3ms/step - loss: 1.0213\n",
      "Epoch 33/50\n",
      "13/13 [==============================] - 0s 3ms/step - loss: 1.0185\n",
      "Epoch 34/50\n",
      "13/13 [==============================] - 0s 3ms/step - loss: 1.0156\n",
      "Epoch 35/50\n",
      "13/13 [==============================] - 0s 3ms/step - loss: 1.0126\n",
      "Epoch 36/50\n",
      "13/13 [==============================] - 0s 2ms/step - loss: 1.0099\n",
      "Epoch 37/50\n",
      "13/13 [==============================] - 0s 2ms/step - loss: 1.0069\n",
      "Epoch 38/50\n",
      "13/13 [==============================] - 0s 2ms/step - loss: 1.0040\n",
      "Epoch 39/50\n",
      "13/13 [==============================] - 0s 2ms/step - loss: 1.0013\n",
      "Epoch 40/50\n",
      "13/13 [==============================] - 0s 1ms/step - loss: 0.9984\n",
      "Epoch 41/50\n",
      "13/13 [==============================] - 0s 2ms/step - loss: 0.9957\n",
      "Epoch 42/50\n",
      "13/13 [==============================] - 0s 2ms/step - loss: 0.9928\n",
      "Epoch 43/50\n",
      "13/13 [==============================] - 0s 2ms/step - loss: 0.9900\n",
      "Epoch 44/50\n",
      "13/13 [==============================] - 0s 1ms/step - loss: 0.9873\n",
      "Epoch 45/50\n",
      "13/13 [==============================] - 0s 1ms/step - loss: 0.9846\n",
      "Epoch 46/50\n",
      "13/13 [==============================] - 0s 1ms/step - loss: 0.9819\n",
      "Epoch 47/50\n",
      "13/13 [==============================] - 0s 1ms/step - loss: 0.9793\n",
      "Epoch 48/50\n",
      "13/13 [==============================] - 0s 2ms/step - loss: 0.9767\n",
      "Epoch 49/50\n",
      "13/13 [==============================] - ETA: 0s - loss: 1.013 - 0s 2ms/step - loss: 0.9742\n",
      "Epoch 50/50\n",
      "13/13 [==============================] - 0s 2ms/step - loss: 0.9714\n"
     ]
    },
    {
     "data": {
      "text/plain": [
       "<keras.callbacks.History at 0x18ff543a1c0>"
      ]
     },
     "execution_count": 17,
     "metadata": {},
     "output_type": "execute_result"
    }
   ],
   "source": [
    "# Fit the model\n",
    "model.fit(x_train, x_train,\n",
    "                epochs=50,\n",
    "                batch_size=20,\n",
    "                shuffle=True,\n",
    "                callbacks=[TensorBoard(log_dir=tensorboard_path)])"
   ]
  },
  {
   "cell_type": "markdown",
   "metadata": {},
   "source": [
    "### Reconstruction Error"
   ]
  },
  {
   "cell_type": "code",
   "execution_count": 18,
   "metadata": {},
   "outputs": [
    {
     "data": {
      "image/png": "[encoded data removed]",
      "text/plain": [
       "<Figure size 864x576 with 1 Axes>"
      ]
     },
     "metadata": {},
     "output_type": "display_data"
    }
   ],
   "source": [
    "# evaluate the model\n",
    "# calculate the reconstruction error\n",
    "costs = np.zeros(x_test.shape[0])\n",
    "for i, x in enumerate(x_test):\n",
    "    input_x = np.reshape(x, (1, x_test.shape[1]))\n",
    "    reconstruction = model.predict(input_x)\n",
    "    # calculate mean squared error\n",
    "    costs[i] = ((x - reconstruction[0]) ** 2).mean(axis=0)\n",
    "\n",
    "plot_reconstruction_error(scale(costs, samples=x_train.shape[0]))"
   ]
  },
  {
   "cell_type": "code",
   "execution_count": null,
   "metadata": {
    "collapsed": true
   },
   "outputs": [],
   "source": []
  }
 ],
 "metadata": {
  "kernelspec": {
   "display_name": "Python [conda env:ki1_labs2]",
   "language": "python",
   "name": "conda-env-ki1_labs2-py"
  },
  "language_info": {
   "codemirror_mode": {
    "name": "ipython",
    "version": 3
   },
   "file_extension": ".py",
   "mimetype": "text/x-python",
   "name": "python",
   "nbconvert_exporter": "python",
   "pygments_lexer": "ipython3",
   "version": "3.9.6"
  }
 },
 "nbformat": 4,
 "nbformat_minor": 2
}
