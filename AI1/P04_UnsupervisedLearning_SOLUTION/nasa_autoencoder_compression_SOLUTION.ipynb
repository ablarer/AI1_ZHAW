{
 "cells": [
  {
   "cell_type": "markdown",
   "metadata": {},
   "source": [
    "# Autoencoder (compression)\n",
    "--- \n",
    "\n",
    "In this notebook we will train a fully connected (dense) autoencoder on the nasa data set.\n",
    "\n",
    "The keras code was inspired by https://blog.keras.io/building-autoencoders-in-keras.html"
   ]
  },
  {
   "cell_type": "code",
   "execution_count": null,
   "metadata": {
    "pycharm": {
     "is_executing": true
    }
   },
   "outputs": [],
   "source": [
    "# inports\n",
    "import numpy as np\n",
    "\n",
    "import keras\n",
    "from tensorflow.keras import optimizers\n",
    "from tensorflow.keras.layers import Input, Dense, GaussianNoise\n",
    "from tensorflow.keras.models import Model, Sequential\n",
    "from tensorflow.keras.callbacks import TensorBoard\n",
    "\n",
    "from util import plot_spectrogram_features\n",
    "from util import plot_reconstruction_error\n",
    "from util import load_data\n",
    "from util import scale\n",
    "\n",
    "import matplotlib.pyplot as plt\n",
    "%matplotlib inline\n",
    "plt.style.use('ggplot')"
   ]
  },
  {
   "cell_type": "code",
   "execution_count": null,
   "metadata": {
    "pycharm": {
     "is_executing": true
    }
   },
   "outputs": [],
   "source": [
    "import tensorflow as tf\n",
    "print(tf.__version__)"
   ]
  },
  {
   "cell_type": "code",
   "execution_count": null,
   "metadata": {
    "pycharm": {
     "is_executing": true
    }
   },
   "outputs": [],
   "source": [
    "print(keras.__version__)"
   ]
  },
  {
   "cell_type": "code",
   "execution_count": 41,
   "metadata": {},
   "outputs": [],
   "source": [
    "# auxiliary variable\n",
    "tensorboard_path = \"./\""
   ]
  },
  {
   "cell_type": "markdown",
   "metadata": {},
   "source": [
    "## Load NASA data"
   ]
  },
  {
   "cell_type": "code",
   "execution_count": 42,
   "metadata": {},
   "outputs": [],
   "source": [
    "path = \"./features_nasa.pickle\"\n",
    "X_train, X_test = load_data(path)"
   ]
  },
  {
   "cell_type": "markdown",
   "metadata": {},
   "source": [
    "---"
   ]
  },
  {
   "cell_type": "markdown",
   "metadata": {},
   "source": [
    "## Build Model"
   ]
  },
  {
   "cell_type": "code",
   "execution_count": 43,
   "metadata": {},
   "outputs": [
    {
     "name": "stdout",
     "output_type": "stream",
     "text": [
      "Number of features: 100\n",
      "Number of hidden units: 4\n"
     ]
    }
   ],
   "source": [
    "# input dim\n",
    "n_features = X_train.shape[1] \n",
    "# number of hidden units\n",
    "encoding_dim = 4 # 4 floats --> compression of factor 25, assuming the input is 100 floats\n",
    "\n",
    "print(\"Number of features:\", n_features)\n",
    "print(\"Number of hidden units:\", encoding_dim)"
   ]
  },
  {
   "cell_type": "code",
   "execution_count": 44,
   "metadata": {},
   "outputs": [],
   "source": [
    "# Create model\n",
    "model = Sequential()\n",
    "model.add(Dense(input_shape=(n_features,), units=encoding_dim, activation='sigmoid'))\n",
    "# now the model will take as input arrays of shape (*, n_features)\n",
    "# and output arrays of shape (*, encoding_dim)\n",
    "model.add(Dense(units=n_features, activation='sigmoid'))"
   ]
  },
  {
   "cell_type": "code",
   "execution_count": 45,
   "metadata": {},
   "outputs": [
    {
     "name": "stdout",
     "output_type": "stream",
     "text": [
      "Model: \"sequential_3\"\n",
      "_________________________________________________________________\n",
      "Layer (type)                 Output Shape              Param #   \n",
      "=================================================================\n",
      "dense_6 (Dense)              (None, 4)                 404       \n",
      "_________________________________________________________________\n",
      "dense_7 (Dense)              (None, 100)               500       \n",
      "=================================================================\n",
      "Total params: 904\n",
      "Trainable params: 904\n",
      "Non-trainable params: 0\n",
      "_________________________________________________________________\n"
     ]
    }
   ],
   "source": [
    "model.summary()"
   ]
  },
  {
   "cell_type": "code",
   "execution_count": 46,
   "metadata": {},
   "outputs": [],
   "source": [
    "# Optimizer stochastic gradient descent\n",
    "sgd = optimizers.SGD(learning_rate=0.2, decay=1e-6, momentum=0.9, nesterov=True)"
   ]
  },
  {
   "cell_type": "code",
   "execution_count": 47,
   "metadata": {},
   "outputs": [],
   "source": [
    "# Compile model\n",
    "model.compile(optimizer=sgd, loss='mean_squared_error')"
   ]
  },
  {
   "cell_type": "markdown",
   "metadata": {},
   "source": [
    "### Prepare data"
   ]
  },
  {
   "cell_type": "code",
   "execution_count": 48,
   "metadata": {},
   "outputs": [
    {
     "name": "stdout",
     "output_type": "stream",
     "text": [
      "Shape of traing set scaled: \t (246, 100)\n",
      "Shape of test set scaled: \t (984, 100)\n"
     ]
    }
   ],
   "source": [
    "# Normalization (choose one sensor)\n",
    "nb_sensor = 0\n",
    "x_train = scale(X_train[:,:,nb_sensor])\n",
    "x_test = scale(X_test[:,:,nb_sensor], samples=x_train.shape[0])\n",
    "\n",
    "print(\"Shape of traing set scaled: \\t {}\".format(x_train.shape))\n",
    "print(\"Shape of test set scaled: \\t {}\".format(x_test.shape))"
   ]
  },
  {
   "cell_type": "markdown",
   "metadata": {
    "collapsed": true
   },
   "source": [
    "### Train Model"
   ]
  },
  {
   "cell_type": "code",
   "execution_count": 49,
   "metadata": {},
   "outputs": [
    {
     "name": "stdout",
     "output_type": "stream",
     "text": [
      "Epoch 1/50\n",
      "13/13 [==============================] - 1s 91ms/step - loss: 1.2613\n",
      "Epoch 2/50\n",
      "13/13 [==============================] - 0s 1ms/step - loss: 1.2363\n",
      "Epoch 3/50\n",
      "13/13 [==============================] - 0s 1ms/step - loss: 1.2063\n",
      "Epoch 4/50\n",
      "13/13 [==============================] - 0s 2ms/step - loss: 1.1767\n",
      "Epoch 5/50\n",
      "13/13 [==============================] - 0s 2ms/step - loss: 1.1488\n",
      "Epoch 6/50\n",
      "13/13 [==============================] - 0s 2ms/step - loss: 1.1236\n",
      "Epoch 7/50\n",
      "13/13 [==============================] - 0s 1ms/step - loss: 1.1014\n",
      "Epoch 8/50\n",
      "13/13 [==============================] - 0s 2ms/step - loss: 1.0832\n",
      "Epoch 9/50\n",
      "13/13 [==============================] - 0s 2ms/step - loss: 1.0685\n",
      "Epoch 10/50\n",
      "13/13 [==============================] - 0s 2ms/step - loss: 1.0566\n",
      "Epoch 11/50\n",
      "13/13 [==============================] - 0s 1ms/step - loss: 1.0468\n",
      "Epoch 12/50\n",
      "13/13 [==============================] - 0s 2ms/step - loss: 1.0390\n",
      "Epoch 13/50\n",
      "13/13 [==============================] - 0s 1ms/step - loss: 1.0325\n",
      "Epoch 14/50\n",
      "13/13 [==============================] - 0s 1ms/step - loss: 1.0271\n",
      "Epoch 15/50\n",
      "13/13 [==============================] - 0s 1ms/step - loss: 1.0225\n",
      "Epoch 16/50\n",
      "13/13 [==============================] - 0s 1ms/step - loss: 1.0186\n",
      "Epoch 17/50\n",
      "13/13 [==============================] - 0s 1ms/step - loss: 1.0154\n",
      "Epoch 18/50\n",
      "13/13 [==============================] - 0s 1ms/step - loss: 1.0127\n",
      "Epoch 19/50\n",
      "13/13 [==============================] - 0s 2ms/step - loss: 1.0103\n",
      "Epoch 20/50\n",
      "13/13 [==============================] - 0s 2ms/step - loss: 1.0082\n",
      "Epoch 21/50\n",
      "13/13 [==============================] - 0s 4ms/step - loss: 1.0063\n",
      "Epoch 22/50\n",
      "13/13 [==============================] - 0s 3ms/step - loss: 1.0047\n",
      "Epoch 23/50\n",
      "13/13 [==============================] - 0s 2ms/step - loss: 1.0033\n",
      "Epoch 24/50\n",
      "13/13 [==============================] - 0s 2ms/step - loss: 1.0019\n",
      "Epoch 25/50\n",
      "13/13 [==============================] - 0s 2ms/step - loss: 1.0007\n",
      "Epoch 26/50\n",
      "13/13 [==============================] - 0s 2ms/step - loss: 0.9996\n",
      "Epoch 27/50\n",
      "13/13 [==============================] - 0s 3ms/step - loss: 0.9986\n",
      "Epoch 28/50\n",
      "13/13 [==============================] - 0s 4ms/step - loss: 0.9977\n",
      "Epoch 29/50\n",
      "13/13 [==============================] - 0s 3ms/step - loss: 0.9969\n",
      "Epoch 30/50\n",
      "13/13 [==============================] - 0s 3ms/step - loss: 0.9961\n",
      "Epoch 31/50\n",
      "13/13 [==============================] - 0s 2ms/step - loss: 0.9954\n",
      "Epoch 32/50\n",
      "13/13 [==============================] - 0s 3ms/step - loss: 0.9947\n",
      "Epoch 33/50\n",
      "13/13 [==============================] - 0s 2ms/step - loss: 0.9941\n",
      "Epoch 34/50\n",
      "13/13 [==============================] - 0s 2ms/step - loss: 0.9935\n",
      "Epoch 35/50\n",
      "13/13 [==============================] - 0s 3ms/step - loss: 0.9930\n",
      "Epoch 36/50\n",
      "13/13 [==============================] - 0s 3ms/step - loss: 0.9925\n",
      "Epoch 37/50\n",
      "13/13 [==============================] - 0s 3ms/step - loss: 0.9920\n",
      "Epoch 38/50\n",
      "13/13 [==============================] - 0s 3ms/step - loss: 0.9915\n",
      "Epoch 39/50\n",
      "13/13 [==============================] - 0s 2ms/step - loss: 0.9911\n",
      "Epoch 40/50\n",
      "13/13 [==============================] - 0s 1ms/step - loss: 0.9907\n",
      "Epoch 41/50\n",
      "13/13 [==============================] - 0s 1ms/step - loss: 0.9903\n",
      "Epoch 42/50\n",
      "13/13 [==============================] - 0s 1ms/step - loss: 0.9899\n",
      "Epoch 43/50\n",
      "13/13 [==============================] - 0s 1ms/step - loss: 0.9895\n",
      "Epoch 44/50\n",
      "13/13 [==============================] - 0s 1ms/step - loss: 0.9892\n",
      "Epoch 45/50\n",
      "13/13 [==============================] - 0s 1ms/step - loss: 0.9889\n",
      "Epoch 46/50\n",
      "13/13 [==============================] - 0s 1ms/step - loss: 0.9886\n",
      "Epoch 47/50\n",
      "13/13 [==============================] - 0s 1ms/step - loss: 0.9883\n",
      "Epoch 48/50\n",
      "13/13 [==============================] - 0s 1ms/step - loss: 0.9880\n",
      "Epoch 49/50\n",
      "13/13 [==============================] - 0s 1ms/step - loss: 0.9877\n",
      "Epoch 50/50\n",
      "13/13 [==============================] - 0s 1ms/step - loss: 0.9874\n"
     ]
    },
    {
     "data": {
      "text/plain": [
       "<keras.callbacks.History at 0x289ce06caf0>"
      ]
     },
     "execution_count": 49,
     "metadata": {},
     "output_type": "execute_result"
    }
   ],
   "source": [
    "# Fit the model\n",
    "# Our target is to reconstruct the input, therefore we set x and y to x_train\n",
    "model.fit(x=x_train, y=x_train,\n",
    "                epochs=50,\n",
    "                batch_size=20,\n",
    "                shuffle=True,\n",
    "                callbacks=[TensorBoard(log_dir=tensorboard_path)])"
   ]
  },
  {
   "cell_type": "markdown",
   "metadata": {},
   "source": [
    "### Reconstruction Error"
   ]
  },
  {
   "cell_type": "code",
   "execution_count": 50,
   "metadata": {},
   "outputs": [
    {
     "data": {
      "image/png": "[encoded data removed]",
      "text/plain": [
       "<Figure size 864x576 with 1 Axes>"
      ]
     },
     "metadata": {},
     "output_type": "display_data"
    }
   ],
   "source": [
    "# evaluate the model\n",
    "# calculate the reconstruction error\n",
    "costs = np.zeros(x_test.shape[0])\n",
    "for i, x in enumerate(x_test):\n",
    "    input_x = np.reshape(x, (1, x_test.shape[1]))\n",
    "    reconstruction = model.predict(input_x)\n",
    "    # calculate mean squared error\n",
    "    costs[i] = ((x - reconstruction[0]) ** 2).mean(axis=0)\n",
    "\n",
    "plot_reconstruction_error(scale(costs, samples=x_train.shape[0]))"
   ]
  }
 ],
 "metadata": {
  "kernelspec": {
   "display_name": "Python [conda env:ki1_labs2]",
   "language": "python",
   "name": "conda-env-ki1_labs2-py"
  },
  "language_info": {
   "codemirror_mode": {
    "name": "ipython",
    "version": 3
   },
   "file_extension": ".py",
   "mimetype": "text/x-python",
   "name": "python",
   "nbconvert_exporter": "python",
   "pygments_lexer": "ipython3",
   "version": "3.9.6"
  }
 },
 "nbformat": 4,
 "nbformat_minor": 2
}
